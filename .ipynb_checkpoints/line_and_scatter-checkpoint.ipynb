{
 "cells": [
  {
   "cell_type": "markdown",
   "metadata": {},
   "source": [
    "# Data Visualization\n",
    "\n",
    "\n",
    "\n",
    "---\n",
    "In order to undertand our data better, a tool you might want to us is data visualization. Data visualization allows you to further your analysis, draw insights, and communicate trends in data that otherise hard to see from just looking at data tables. \n",
    "\n",
    "---\n",
    "\n",
    "### Topics Covered\n",
    "- Scatter plots\n",
    "- Line graphs\n",
    "- Bar chart\n",
    "\n",
    "### Table of Contents\n",
    "\n",
    "1 - [Scatter Plots](#section1)<br>\n",
    "\n",
    "2 - [Line Graphs](#section2)<br>\n",
    "\n",
    "3 - [Bar Charts](#section3)<br>\n",
    "\n",
    "\n",
    "\n",
    "\n",
    "\n",
    "\n",
    "**Dependencies:**"
   ]
  },
  {
   "cell_type": "code",
   "execution_count": 1,
   "metadata": {
    "scrolled": true
   },
   "outputs": [
    {
     "data": {
      "text/html": [
       "<script>\n",
       "code_show=true; \n",
       "function code_toggle() {\n",
       "  if (code_show) {\n",
       "    $('div.input').each(function(id) {\n",
       "      el = $(this).find('.cm-variable:first');\n",
       "      if (id == 0 || el.text() == 'hide_me') {\n",
       "        $(this).hide();\n",
       "      }\n",
       "    });\n",
       "    $('div.output_prompt').css('opacity', 0);\n",
       "  } else {\n",
       "    $('div.input').each(function(id) {\n",
       "      $(this).show();\n",
       "    });\n",
       "    $('div.output_prompt').css('opacity', 1);\n",
       "  }\n",
       "  code_show = !code_show\n",
       "} \n",
       "$( document ).ready(code_toggle);\n",
       "</script>\n",
       "<form action=\"javascript:code_toggle()\"><input style=\"opacity:1\" type=\"submit\" value=\"Click here to reveal the raw code.\"></form>"
      ],
      "text/plain": [
       "<IPython.core.display.HTML object>"
      ]
     },
     "execution_count": 1,
     "metadata": {},
     "output_type": "execute_result"
    }
   ],
   "source": [
    "from IPython.display import HTML\n",
    "\n",
    "hide_me = ''\n",
    "HTML('''<script>\n",
    "code_show=true; \n",
    "function code_toggle() {\n",
    "  if (code_show) {\n",
    "    $('div.input').each(function(id) {\n",
    "      el = $(this).find('.cm-variable:first');\n",
    "      if (id == 0 || el.text() == 'hide_me') {\n",
    "        $(this).hide();\n",
    "      }\n",
    "    });\n",
    "    $('div.output_prompt').css('opacity', 0);\n",
    "  } else {\n",
    "    $('div.input').each(function(id) {\n",
    "      $(this).show();\n",
    "    });\n",
    "    $('div.output_prompt').css('opacity', 1);\n",
    "  }\n",
    "  code_show = !code_show\n",
    "} \n",
    "$( document ).ready(code_toggle);\n",
    "</script>\n",
    "<form action=\"javascript:code_toggle()\"><input style=\"opacity:1\" type=\"submit\" value=\"Click here to reveal the raw code.\"></form>''')\n"
   ]
  },
  {
   "cell_type": "code",
   "execution_count": 66,
   "metadata": {},
   "outputs": [],
   "source": [
    "%%capture\n",
    "#! pip install pydataset\n",
    "from pydataset import data\n",
    "import seaborn as sns\n",
    "import pandas as pd\n",
    "from datascience import Table\n",
    "import  plotly.express as px\n"
   ]
  },
  {
   "cell_type": "markdown",
   "metadata": {},
   "source": [
    "___\n",
    "\n",
    "### Definitions\n",
    "\n",
    "#### Variables\n",
    "\n",
    "Variables can fall into two differetn types, categorical or numerical. There are distinct visualizations that are suited for each type. Let's look at the variable types. \n",
    "\n",
    "|Categorical Variables|Nmerical Variables|\n",
    "|------------|---------|\n",
    "|Nonimal or ordinal| Interval or Ratio|\n",
    "\n",
    "<div class=\"alert alert-info\">\n",
    "* Maybe add a diagram instead of table\n",
    "https://www.youtube.com/watch?v=EHRg9ojcVRQ&feature=youtu.be\n",
    "    \n",
    "\n",
    "---"
   ]
  },
  {
   "cell_type": "markdown",
   "metadata": {},
   "source": [
    "\n",
    "## Scatter Plots <a id='section 1'></a>"
   ]
  },
  {
   "cell_type": "markdown",
   "metadata": {},
   "source": [
    "---\n",
    "In this section, you'll be working with the diamonds dataset. \n",
    "\n",
    "* **Diamonds**: The diamonds dataset contains the prices and other attributes suchas a 4Cs of diamonds (cut, color, clarity, carat) of over 54,000 diamonds. \n",
    "\n"
   ]
  },
  {
   "cell_type": "markdown",
   "metadata": {},
   "source": [
    "A scatter plot helps us understand associations between two **numerical** variables. \n",
    "\n",
    "We use scatter plots for data that does not follow a logical sequantial order. "
   ]
  },
  {
   "cell_type": "markdown",
   "metadata": {},
   "source": [
    "**Question 1.** The data are in a CSV file called `diamonds.csv`.  Load that file into a table called `diamonds`."
   ]
  },
  {
   "cell_type": "code",
   "execution_count": 5,
   "metadata": {},
   "outputs": [
    {
     "data": {
      "text/html": [
       "<table border=\"1\" class=\"dataframe\">\n",
       "    <thead>\n",
       "        <tr>\n",
       "            <th>carat</th> <th>cut</th> <th>color</th> <th>clarity</th> <th>depth</th> <th>table</th> <th>price</th> <th>x</th> <th>y</th> <th>z</th>\n",
       "        </tr>\n",
       "    </thead>\n",
       "    <tbody>\n",
       "        <tr>\n",
       "            <td>0.23 </td> <td>Ideal    </td> <td>E    </td> <td>SI2    </td> <td>61.5 </td> <td>55   </td> <td>326  </td> <td>3.95</td> <td>3.98</td> <td>2.43</td>\n",
       "        </tr>\n",
       "        <tr>\n",
       "            <td>0.21 </td> <td>Premium  </td> <td>E    </td> <td>SI1    </td> <td>59.8 </td> <td>61   </td> <td>326  </td> <td>3.89</td> <td>3.84</td> <td>2.31</td>\n",
       "        </tr>\n",
       "        <tr>\n",
       "            <td>0.23 </td> <td>Good     </td> <td>E    </td> <td>VS1    </td> <td>56.9 </td> <td>65   </td> <td>327  </td> <td>4.05</td> <td>4.07</td> <td>2.31</td>\n",
       "        </tr>\n",
       "        <tr>\n",
       "            <td>0.29 </td> <td>Premium  </td> <td>I    </td> <td>VS2    </td> <td>62.4 </td> <td>58   </td> <td>334  </td> <td>4.2 </td> <td>4.23</td> <td>2.63</td>\n",
       "        </tr>\n",
       "        <tr>\n",
       "            <td>0.31 </td> <td>Good     </td> <td>J    </td> <td>SI2    </td> <td>63.3 </td> <td>58   </td> <td>335  </td> <td>4.34</td> <td>4.35</td> <td>2.75</td>\n",
       "        </tr>\n",
       "        <tr>\n",
       "            <td>0.24 </td> <td>Very Good</td> <td>J    </td> <td>VVS2   </td> <td>62.8 </td> <td>57   </td> <td>336  </td> <td>3.94</td> <td>3.96</td> <td>2.48</td>\n",
       "        </tr>\n",
       "        <tr>\n",
       "            <td>0.24 </td> <td>Very Good</td> <td>I    </td> <td>VVS1   </td> <td>62.3 </td> <td>57   </td> <td>336  </td> <td>3.95</td> <td>3.98</td> <td>2.47</td>\n",
       "        </tr>\n",
       "        <tr>\n",
       "            <td>0.26 </td> <td>Very Good</td> <td>H    </td> <td>SI1    </td> <td>61.9 </td> <td>55   </td> <td>337  </td> <td>4.07</td> <td>4.11</td> <td>2.53</td>\n",
       "        </tr>\n",
       "        <tr>\n",
       "            <td>0.22 </td> <td>Fair     </td> <td>E    </td> <td>VS2    </td> <td>65.1 </td> <td>61   </td> <td>337  </td> <td>3.87</td> <td>3.78</td> <td>2.49</td>\n",
       "        </tr>\n",
       "        <tr>\n",
       "            <td>0.23 </td> <td>Very Good</td> <td>H    </td> <td>VS1    </td> <td>59.4 </td> <td>61   </td> <td>338  </td> <td>4   </td> <td>4.05</td> <td>2.39</td>\n",
       "        </tr>\n",
       "    </tbody>\n",
       "</table>\n",
       "<p>... (53930 rows omitted)</p>"
      ],
      "text/plain": [
       "carat | cut       | color | clarity | depth | table | price | x    | y    | z\n",
       "0.23  | Ideal     | E     | SI2     | 61.5  | 55    | 326   | 3.95 | 3.98 | 2.43\n",
       "0.21  | Premium   | E     | SI1     | 59.8  | 61    | 326   | 3.89 | 3.84 | 2.31\n",
       "0.23  | Good      | E     | VS1     | 56.9  | 65    | 327   | 4.05 | 4.07 | 2.31\n",
       "0.29  | Premium   | I     | VS2     | 62.4  | 58    | 334   | 4.2  | 4.23 | 2.63\n",
       "0.31  | Good      | J     | SI2     | 63.3  | 58    | 335   | 4.34 | 4.35 | 2.75\n",
       "0.24  | Very Good | J     | VVS2    | 62.8  | 57    | 336   | 3.94 | 3.96 | 2.48\n",
       "0.24  | Very Good | I     | VVS1    | 62.3  | 57    | 336   | 3.95 | 3.98 | 2.47\n",
       "0.26  | Very Good | H     | SI1     | 61.9  | 55    | 337   | 4.07 | 4.11 | 2.53\n",
       "0.22  | Fair      | E     | VS2     | 65.1  | 61    | 337   | 3.87 | 3.78 | 2.49\n",
       "0.23  | Very Good | H     | VS1     | 59.4  | 61    | 338   | 4    | 4.05 | 2.39\n",
       "... (53930 rows omitted)"
      ]
     },
     "execution_count": 5,
     "metadata": {},
     "output_type": "execute_result"
    }
   ],
   "source": [
    "# dropping the missing values using pandas - how do you do it using datas science library \n",
    "\n",
    "diamonds = Table.read_table(\"diamonds.csv\")\n",
    "diamonds"
   ]
  },
  {
   "cell_type": "markdown",
   "metadata": {},
   "source": [
    "**Question 2.** Sort the data in ascending order by price, naming the sorted table `by_carat`. "
   ]
  },
  {
   "cell_type": "code",
   "execution_count": 14,
   "metadata": {},
   "outputs": [
    {
     "data": {
      "text/html": [
       "<table border=\"1\" class=\"dataframe\">\n",
       "    <thead>\n",
       "        <tr>\n",
       "            <th>carat</th> <th>cut</th> <th>color</th> <th>clarity</th> <th>depth</th> <th>table</th> <th>price</th> <th>x</th> <th>y</th> <th>z</th>\n",
       "        </tr>\n",
       "    </thead>\n",
       "    <tbody>\n",
       "        <tr>\n",
       "            <td>0.2  </td> <td>Premium  </td> <td>E    </td> <td>SI2    </td> <td>60.2 </td> <td>62   </td> <td>345  </td> <td>3.79</td> <td>3.75</td> <td>2.27</td>\n",
       "        </tr>\n",
       "        <tr>\n",
       "            <td>0.2  </td> <td>Premium  </td> <td>E    </td> <td>VS2    </td> <td>59.8 </td> <td>62   </td> <td>367  </td> <td>3.79</td> <td>3.77</td> <td>2.26</td>\n",
       "        </tr>\n",
       "        <tr>\n",
       "            <td>0.2  </td> <td>Premium  </td> <td>E    </td> <td>VS2    </td> <td>59   </td> <td>60   </td> <td>367  </td> <td>3.81</td> <td>3.78</td> <td>2.24</td>\n",
       "        </tr>\n",
       "        <tr>\n",
       "            <td>0.2  </td> <td>Premium  </td> <td>E    </td> <td>VS2    </td> <td>61.1 </td> <td>59   </td> <td>367  </td> <td>3.81</td> <td>3.78</td> <td>2.32</td>\n",
       "        </tr>\n",
       "        <tr>\n",
       "            <td>0.2  </td> <td>Premium  </td> <td>E    </td> <td>VS2    </td> <td>59.7 </td> <td>62   </td> <td>367  </td> <td>3.84</td> <td>3.8 </td> <td>2.28</td>\n",
       "        </tr>\n",
       "        <tr>\n",
       "            <td>0.2  </td> <td>Ideal    </td> <td>E    </td> <td>VS2    </td> <td>59.7 </td> <td>55   </td> <td>367  </td> <td>3.86</td> <td>3.84</td> <td>2.3 </td>\n",
       "        </tr>\n",
       "        <tr>\n",
       "            <td>0.2  </td> <td>Premium  </td> <td>F    </td> <td>VS2    </td> <td>62.6 </td> <td>59   </td> <td>367  </td> <td>3.73</td> <td>3.71</td> <td>2.33</td>\n",
       "        </tr>\n",
       "        <tr>\n",
       "            <td>0.2  </td> <td>Ideal    </td> <td>D    </td> <td>VS2    </td> <td>61.5 </td> <td>57   </td> <td>367  </td> <td>3.81</td> <td>3.77</td> <td>2.33</td>\n",
       "        </tr>\n",
       "        <tr>\n",
       "            <td>0.2  </td> <td>Very Good</td> <td>E    </td> <td>VS2    </td> <td>63.4 </td> <td>59   </td> <td>367  </td> <td>3.74</td> <td>3.71</td> <td>2.36</td>\n",
       "        </tr>\n",
       "        <tr>\n",
       "            <td>0.2  </td> <td>Ideal    </td> <td>E    </td> <td>VS2    </td> <td>62.2 </td> <td>57   </td> <td>367  </td> <td>3.76</td> <td>3.73</td> <td>2.33</td>\n",
       "        </tr>\n",
       "    </tbody>\n",
       "</table>\n",
       "<p>... (53930 rows omitted)</p>"
      ],
      "text/plain": [
       "carat | cut       | color | clarity | depth | table | price | x    | y    | z\n",
       "0.2   | Premium   | E     | SI2     | 60.2  | 62    | 345   | 3.79 | 3.75 | 2.27\n",
       "0.2   | Premium   | E     | VS2     | 59.8  | 62    | 367   | 3.79 | 3.77 | 2.26\n",
       "0.2   | Premium   | E     | VS2     | 59    | 60    | 367   | 3.81 | 3.78 | 2.24\n",
       "0.2   | Premium   | E     | VS2     | 61.1  | 59    | 367   | 3.81 | 3.78 | 2.32\n",
       "0.2   | Premium   | E     | VS2     | 59.7  | 62    | 367   | 3.84 | 3.8  | 2.28\n",
       "0.2   | Ideal     | E     | VS2     | 59.7  | 55    | 367   | 3.86 | 3.84 | 2.3\n",
       "0.2   | Premium   | F     | VS2     | 62.6  | 59    | 367   | 3.73 | 3.71 | 2.33\n",
       "0.2   | Ideal     | D     | VS2     | 61.5  | 57    | 367   | 3.81 | 3.77 | 2.33\n",
       "0.2   | Very Good | E     | VS2     | 63.4  | 59    | 367   | 3.74 | 3.71 | 2.36\n",
       "0.2   | Ideal     | E     | VS2     | 62.2  | 57    | 367   | 3.76 | 3.73 | 2.33\n",
       "... (53930 rows omitted)"
      ]
     },
     "execution_count": 14,
     "metadata": {},
     "output_type": "execute_result"
    }
   ],
   "source": [
    "by_carat = diamonds.sort(\"carat\", descending = False)\n",
    "by_carat"
   ]
  },
  {
   "cell_type": "markdown",
   "metadata": {},
   "source": [
    "**Question 3.** \n",
    "We want to explore the relationship between the variables `carat` and `price`. Let's begin by inspecting the first few 30 rows to see if anything comes to our attention. "
   ]
  },
  {
   "cell_type": "markdown",
   "metadata": {},
   "source": [
    "Use the `select` function to select only `carat` and `price` columns. "
   ]
  },
  {
   "cell_type": "code",
   "execution_count": 68,
   "metadata": {
    "scrolled": true
   },
   "outputs": [
    {
     "data": {
      "text/html": [
       "<table border=\"1\" class=\"dataframe\">\n",
       "    <thead>\n",
       "        <tr>\n",
       "            <th>price</th> <th>carat</th>\n",
       "        </tr>\n",
       "    </thead>\n",
       "    <tbody>\n",
       "        <tr>\n",
       "            <td>345  </td> <td>0.2  </td>\n",
       "        </tr>\n",
       "        <tr>\n",
       "            <td>367  </td> <td>0.2  </td>\n",
       "        </tr>\n",
       "        <tr>\n",
       "            <td>367  </td> <td>0.2  </td>\n",
       "        </tr>\n",
       "        <tr>\n",
       "            <td>367  </td> <td>0.2  </td>\n",
       "        </tr>\n",
       "        <tr>\n",
       "            <td>367  </td> <td>0.2  </td>\n",
       "        </tr>\n",
       "        <tr>\n",
       "            <td>367  </td> <td>0.2  </td>\n",
       "        </tr>\n",
       "        <tr>\n",
       "            <td>367  </td> <td>0.2  </td>\n",
       "        </tr>\n",
       "        <tr>\n",
       "            <td>367  </td> <td>0.2  </td>\n",
       "        </tr>\n",
       "        <tr>\n",
       "            <td>367  </td> <td>0.2  </td>\n",
       "        </tr>\n",
       "        <tr>\n",
       "            <td>367  </td> <td>0.2  </td>\n",
       "        </tr>\n",
       "        <tr>\n",
       "            <td>367  </td> <td>0.2  </td>\n",
       "        </tr>\n",
       "        <tr>\n",
       "            <td>367  </td> <td>0.2  </td>\n",
       "        </tr>\n",
       "        <tr>\n",
       "            <td>326  </td> <td>0.21 </td>\n",
       "        </tr>\n",
       "        <tr>\n",
       "            <td>386  </td> <td>0.21 </td>\n",
       "        </tr>\n",
       "        <tr>\n",
       "            <td>386  </td> <td>0.21 </td>\n",
       "        </tr>\n",
       "        <tr>\n",
       "            <td>386  </td> <td>0.21 </td>\n",
       "        </tr>\n",
       "        <tr>\n",
       "            <td>386  </td> <td>0.21 </td>\n",
       "        </tr>\n",
       "        <tr>\n",
       "            <td>386  </td> <td>0.21 </td>\n",
       "        </tr>\n",
       "        <tr>\n",
       "            <td>386  </td> <td>0.21 </td>\n",
       "        </tr>\n",
       "        <tr>\n",
       "            <td>386  </td> <td>0.21 </td>\n",
       "        </tr>\n",
       "        <tr>\n",
       "            <td>394  </td> <td>0.21 </td>\n",
       "        </tr>\n",
       "        <tr>\n",
       "            <td>337  </td> <td>0.22 </td>\n",
       "        </tr>\n",
       "        <tr>\n",
       "            <td>342  </td> <td>0.22 </td>\n",
       "        </tr>\n",
       "        <tr>\n",
       "            <td>404  </td> <td>0.22 </td>\n",
       "        </tr>\n",
       "        <tr>\n",
       "            <td>404  </td> <td>0.22 </td>\n",
       "        </tr>\n",
       "        <tr>\n",
       "            <td>470  </td> <td>0.22 </td>\n",
       "        </tr>\n",
       "        <tr>\n",
       "            <td>326  </td> <td>0.23 </td>\n",
       "        </tr>\n",
       "        <tr>\n",
       "            <td>327  </td> <td>0.23 </td>\n",
       "        </tr>\n",
       "        <tr>\n",
       "            <td>338  </td> <td>0.23 </td>\n",
       "        </tr>\n",
       "        <tr>\n",
       "            <td>340  </td> <td>0.23 </td>\n",
       "        </tr>\n",
       "    </tbody>\n",
       "</table>\n",
       "<p>... (53910 rows omitted)</p>"
      ],
      "text/plain": [
       "<IPython.core.display.HTML object>"
      ]
     },
     "metadata": {},
     "output_type": "display_data"
    }
   ],
   "source": [
    "by_carat= by_carat.select(\"price\",\"carat\").show(30)\n",
    "by_carat"
   ]
  },
  {
   "cell_type": "markdown",
   "metadata": {},
   "source": [
    "Now, let's explore this data visually. Let's create a scatterplot! \n",
    "\n",
    "We will be using a function called `scatter`, which takes two argumnets. These arguments are the desired columns we want to plot. "
   ]
  },
  {
   "cell_type": "code",
   "execution_count": 19,
   "metadata": {},
   "outputs": [
    {
     "data": {
      "image/png": "[encoded data removed]",
      "text/plain": [
       "<Figure size 360x360 with 1 Axes>"
      ]
     },
     "metadata": {
      "needs_background": "light"
     },
     "output_type": "display_data"
    }
   ],
   "source": [
    "# Run this cell \n",
    "\n",
    "by_carat.scatter('carat','price')\n",
    "\n",
    "# What happened with the title ?"
   ]
  },
  {
   "cell_type": "markdown",
   "metadata": {},
   "source": [
    "---\n",
    "<b>Question 1:</b> What can you tell about this graph? "
   ]
  },
  {
   "cell_type": "markdown",
   "metadata": {},
   "source": [
    "<b>Answer: </b> YOUR ANSWER HERE\n",
    "\n"
   ]
  },
  {
   "cell_type": "markdown",
   "metadata": {},
   "source": [
    "<b> Question 2</b>: Your turn! This questions has two parts. \n",
    "Let's see if there is a relationship between the `price` and `depth`."
   ]
  },
  {
   "cell_type": "markdown",
   "metadata": {},
   "source": [
    "We will begin by creating a subtable that orgnaizes the `depth` values in ascending order. "
   ]
  },
  {
   "cell_type": "code",
   "execution_count": null,
   "metadata": {},
   "outputs": [],
   "source": [
    "by_depth = diamonds.sort(\"...\", descending = False)\n",
    "by_depth"
   ]
  },
  {
   "cell_type": "code",
   "execution_count": 36,
   "metadata": {},
   "outputs": [],
   "source": [
    "# Answer\n",
    "by_depth = diamonds.sort(\"depth\", descending = False)"
   ]
  },
  {
   "cell_type": "markdown",
   "metadata": {},
   "source": [
    "Now, we let's select only 2 variables. Nameley, `depth` and `price`. Choose to display the forst 30 rows to see if anything comes out to you from just looking at the table."
   ]
  },
  {
   "cell_type": "code",
   "execution_count": null,
   "metadata": {},
   "outputs": [],
   "source": [
    "by_depth = by_depth.select(\"depth\",\"...\").show(...)\n",
    "by_depth"
   ]
  },
  {
   "cell_type": "code",
   "execution_count": 70,
   "metadata": {},
   "outputs": [
    {
     "ename": "AttributeError",
     "evalue": "'NoneType' object has no attribute 'select'",
     "output_type": "error",
     "traceback": [
      "\u001b[0;31m---------------------------------------------------------------------------\u001b[0m",
      "\u001b[0;31mAttributeError\u001b[0m                            Traceback (most recent call last)",
      "\u001b[0;32m<ipython-input-70-d7ad70b58d06>\u001b[0m in \u001b[0;36m<module>\u001b[0;34m\u001b[0m\n\u001b[1;32m      1\u001b[0m \u001b[0;31m# Answer\u001b[0m\u001b[0;34m\u001b[0m\u001b[0;34m\u001b[0m\u001b[0m\n\u001b[0;32m----> 2\u001b[0;31m \u001b[0mby_depth\u001b[0m \u001b[0;34m=\u001b[0m \u001b[0mby_depth\u001b[0m\u001b[0;34m.\u001b[0m\u001b[0mselect\u001b[0m\u001b[0;34m(\u001b[0m\u001b[0;34m\"depth\"\u001b[0m\u001b[0;34m,\u001b[0m\u001b[0;34m\"price\"\u001b[0m\u001b[0;34m)\u001b[0m\u001b[0;34m.\u001b[0m\u001b[0mshow\u001b[0m\u001b[0;34m(\u001b[0m\u001b[0;36m30\u001b[0m\u001b[0;34m)\u001b[0m\u001b[0;34m\u001b[0m\u001b[0m\n\u001b[0m",
      "\u001b[0;31mAttributeError\u001b[0m: 'NoneType' object has no attribute 'select'"
     ]
    }
   ],
   "source": [
    "# Answer\n",
    "by_depth = by_depth.select(\"depth\",\"price\").show(30)"
   ]
  },
  {
   "cell_type": "markdown",
   "metadata": {},
   "source": [
    "Now, let's create the scatter plot for these two variables. "
   ]
  },
  {
   "cell_type": "code",
   "execution_count": null,
   "metadata": {},
   "outputs": [],
   "source": [
    "by_depth.scatter('...','...')"
   ]
  },
  {
   "cell_type": "code",
   "execution_count": 71,
   "metadata": {},
   "outputs": [
    {
     "ename": "AttributeError",
     "evalue": "'NoneType' object has no attribute 'scatter'",
     "output_type": "error",
     "traceback": [
      "\u001b[0;31m---------------------------------------------------------------------------\u001b[0m",
      "\u001b[0;31mAttributeError\u001b[0m                            Traceback (most recent call last)",
      "\u001b[0;32m<ipython-input-71-5c4a5c9c23a8>\u001b[0m in \u001b[0;36m<module>\u001b[0;34m\u001b[0m\n\u001b[1;32m      1\u001b[0m \u001b[0;31m# Answer\u001b[0m\u001b[0;34m\u001b[0m\u001b[0;34m\u001b[0m\u001b[0m\n\u001b[0;32m----> 2\u001b[0;31m \u001b[0mby_depth\u001b[0m\u001b[0;34m.\u001b[0m\u001b[0mscatter\u001b[0m\u001b[0;34m(\u001b[0m\u001b[0;34m'depth'\u001b[0m\u001b[0;34m,\u001b[0m\u001b[0;34m'price'\u001b[0m\u001b[0;34m)\u001b[0m\u001b[0;34m\u001b[0m\u001b[0m\n\u001b[0m",
      "\u001b[0;31mAttributeError\u001b[0m: 'NoneType' object has no attribute 'scatter'"
     ]
    }
   ],
   "source": [
    "# Answer\n",
    "by_depth.scatter('depth','price')"
   ]
  },
  {
   "cell_type": "markdown",
   "metadata": {},
   "source": [
    "<b> Question 3</b>: Can you draw any insights from the plot above? Are there any patterns? Do you think that `depth` is related to `price`?"
   ]
  },
  {
   "cell_type": "markdown",
   "metadata": {},
   "source": [
    "<b>Answer: </b> YOUR ANSWER HERE"
   ]
  },
  {
   "cell_type": "markdown",
   "metadata": {},
   "source": [
    "---"
   ]
  },
  {
   "cell_type": "markdown",
   "metadata": {},
   "source": [
    "## Line graphs <a id='section2'></a>"
   ]
  },
  {
   "cell_type": "markdown",
   "metadata": {},
   "source": [
    "--- "
   ]
  },
  {
   "cell_type": "markdown",
   "metadata": {},
   "source": [
    "We use line plots for data that follows a logical order, for example time or distance. \n",
    "Line graphs help us to record and visualize changes over time or distame. This means that \n",
    "* Your x-axis is ordered (i.e. 1970, 1971, 1972...)\n",
    "* The ordered differences in the y-value are meaningful \n",
    "* There is one-one relationship between x and y (i.e. 1970 maps to the number of cars sold in 1970)\n"
   ]
  },
  {
   "cell_type": "markdown",
   "metadata": {},
   "source": [
    "In this question, you'll be working with the Presidents dataset. \n",
    "\n",
    "\n",
    "* Presidents: Contains information for the quartetly approval rating for the President of the United States from the frist quarter of 1945 to the last quarter of 1974, "
   ]
  },
  {
   "cell_type": "markdown",
   "metadata": {},
   "source": [
    "We will begin by reading the presidents dataset. Run the following line to save the csv to a variable called presidents. "
   ]
  },
  {
   "cell_type": "code",
   "execution_count": 43,
   "metadata": {},
   "outputs": [
    {
     "data": {
      "text/html": [
       "<table border=\"1\" class=\"dataframe\">\n",
       "    <thead>\n",
       "        <tr>\n",
       "            <th>Unnamed: 0</th> <th>time</th> <th>presidents</th>\n",
       "        </tr>\n",
       "    </thead>\n",
       "    <tbody>\n",
       "        <tr>\n",
       "            <td>1         </td> <td>1945   </td> <td>nan       </td>\n",
       "        </tr>\n",
       "        <tr>\n",
       "            <td>2         </td> <td>1945.25</td> <td>87        </td>\n",
       "        </tr>\n",
       "        <tr>\n",
       "            <td>3         </td> <td>1945.5 </td> <td>82        </td>\n",
       "        </tr>\n",
       "        <tr>\n",
       "            <td>4         </td> <td>1945.75</td> <td>75        </td>\n",
       "        </tr>\n",
       "        <tr>\n",
       "            <td>5         </td> <td>1946   </td> <td>63        </td>\n",
       "        </tr>\n",
       "        <tr>\n",
       "            <td>6         </td> <td>1946.25</td> <td>50        </td>\n",
       "        </tr>\n",
       "        <tr>\n",
       "            <td>7         </td> <td>1946.5 </td> <td>43        </td>\n",
       "        </tr>\n",
       "        <tr>\n",
       "            <td>8         </td> <td>1946.75</td> <td>32        </td>\n",
       "        </tr>\n",
       "        <tr>\n",
       "            <td>9         </td> <td>1947   </td> <td>35        </td>\n",
       "        </tr>\n",
       "        <tr>\n",
       "            <td>10        </td> <td>1947.25</td> <td>60        </td>\n",
       "        </tr>\n",
       "    </tbody>\n",
       "</table>\n",
       "<p>... (110 rows omitted)</p>"
      ],
      "text/plain": [
       "Unnamed: 0 | time    | presidents\n",
       "1          | 1945    | nan\n",
       "2          | 1945.25 | 87\n",
       "3          | 1945.5  | 82\n",
       "4          | 1945.75 | 75\n",
       "5          | 1946    | 63\n",
       "6          | 1946.25 | 50\n",
       "7          | 1946.5  | 43\n",
       "8          | 1946.75 | 32\n",
       "9          | 1947    | 35\n",
       "10         | 1947.25 | 60\n",
       "... (110 rows omitted)"
      ]
     },
     "execution_count": 43,
     "metadata": {},
     "output_type": "execute_result"
    }
   ],
   "source": [
    "#Run this cell to see the presidents data\n",
    "\n",
    "presidents = Table.read_table(\"presidents.csv\")\n",
    "presidents"
   ]
  },
  {
   "cell_type": "markdown",
   "metadata": {},
   "source": [
    "Now that we know what the dataset looks like, let's create a line plot with time on the x axis and approval rating in the y axis. \n",
    "\n",
    "We will do this by using the function called `plot`. Plot takes 2 arguments. These arguments are the columns we wan to plot. Notice that X should be some kinf of ordered variable. Here we will use **time**."
   ]
  },
  {
   "cell_type": "code",
   "execution_count": 44,
   "metadata": {},
   "outputs": [
    {
     "data": {
      "image/png": "[encoded data removed]",
      "text/plain": [
       "<Figure size 432x288 with 1 Axes>"
      ]
     },
     "metadata": {
      "needs_background": "light"
     },
     "output_type": "display_data"
    }
   ],
   "source": [
    "presidents.plot('time','presidents')"
   ]
  },
  {
   "cell_type": "markdown",
   "metadata": {},
   "source": [
    "<b>Question 1:</b> What patterns can you see in the plot below? Can you give an explanation for the drop in approval rated in the early 1950s and early 1970s? What do you think is caused the spiked in early 1945  and in th early 1960s? When anwering these questions think about who was president at that time? What events were occuring globally and in the US? Do you notice anything else? Write a few sentences about your findings.\n",
    "\n",
    "*Part of being a data scientist is using your detective skills and domain knowledge to provide an educated opinion about your observations.*"
   ]
  },
  {
   "cell_type": "markdown",
   "metadata": {},
   "source": [
    "<b>Answer :</b> YOUR ANSWER HERE"
   ]
  },
  {
   "cell_type": "markdown",
   "metadata": {},
   "source": [
    "<b>Question 2:</b> Your turn! For this question we will be using .... (FIND ANOTHER SAMPLE DATASET TO TEST)"
   ]
  },
  {
   "cell_type": "markdown",
   "metadata": {},
   "source": [
    "---"
   ]
  },
  {
   "cell_type": "markdown",
   "metadata": {},
   "source": [
    "## Bar Charts <a id='section3'></a>"
   ]
  },
  {
   "cell_type": "markdown",
   "metadata": {},
   "source": [
    "Not all data is numerical, hence we would want to use a new tool to visualize and analyize **categorical** variables.\n",
    "\n",
    "We can use bar charts to visualize categorical **distributions**. When drawing these charts, it is important to keep in mind the following: \n",
    "* One axis is a categorical variable, while the other is numerical.\n",
    "* The length of the bars are proportioanl to the frequency corresponding to each category. \n",
    "* Distributions describe **frequencies** of the variables\n",
    "* We can use the **group()** function to count the number of rows/records/observations for each value in the desired column. "
   ]
  },
  {
   "cell_type": "markdown",
   "metadata": {},
   "source": [
    "In this section, you'll be working with the diamonds dataset. \n",
    "\n",
    "\n",
    "* Mpg: The mpg dataset contains a subsert of the fuel economy data that the EPA made available. It has information from 1999 to 2008 for 38 popular models of cars. It contains 234 records, and 11 variables such as manufactures, model, year, number of cylinders,etc."
   ]
  },
  {
   "cell_type": "markdown",
   "metadata": {},
   "source": [
    "Run this cell to read the mpg csv into the a varaible called **mpg**"
   ]
  },
  {
   "cell_type": "code",
   "execution_count": 49,
   "metadata": {},
   "outputs": [
    {
     "data": {
      "text/html": [
       "<table border=\"1\" class=\"dataframe\">\n",
       "    <thead>\n",
       "        <tr>\n",
       "            <th>Unnamed: 0</th> <th>manufacturer</th> <th>model</th> <th>displ</th> <th>year</th> <th>cyl</th> <th>trans</th> <th>drv</th> <th>cty</th> <th>hwy</th> <th>fl</th> <th>class</th>\n",
       "        </tr>\n",
       "    </thead>\n",
       "    <tbody>\n",
       "        <tr>\n",
       "            <td>1         </td> <td>audi        </td> <td>a4        </td> <td>1.8  </td> <td>1999</td> <td>4   </td> <td>auto(l5)  </td> <td>f   </td> <td>18  </td> <td>29  </td> <td>p   </td> <td>compact</td>\n",
       "        </tr>\n",
       "        <tr>\n",
       "            <td>2         </td> <td>audi        </td> <td>a4        </td> <td>1.8  </td> <td>1999</td> <td>4   </td> <td>manual(m5)</td> <td>f   </td> <td>21  </td> <td>29  </td> <td>p   </td> <td>compact</td>\n",
       "        </tr>\n",
       "        <tr>\n",
       "            <td>3         </td> <td>audi        </td> <td>a4        </td> <td>2    </td> <td>2008</td> <td>4   </td> <td>manual(m6)</td> <td>f   </td> <td>20  </td> <td>31  </td> <td>p   </td> <td>compact</td>\n",
       "        </tr>\n",
       "        <tr>\n",
       "            <td>4         </td> <td>audi        </td> <td>a4        </td> <td>2    </td> <td>2008</td> <td>4   </td> <td>auto(av)  </td> <td>f   </td> <td>21  </td> <td>30  </td> <td>p   </td> <td>compact</td>\n",
       "        </tr>\n",
       "        <tr>\n",
       "            <td>5         </td> <td>audi        </td> <td>a4        </td> <td>2.8  </td> <td>1999</td> <td>6   </td> <td>auto(l5)  </td> <td>f   </td> <td>16  </td> <td>26  </td> <td>p   </td> <td>compact</td>\n",
       "        </tr>\n",
       "        <tr>\n",
       "            <td>6         </td> <td>audi        </td> <td>a4        </td> <td>2.8  </td> <td>1999</td> <td>6   </td> <td>manual(m5)</td> <td>f   </td> <td>18  </td> <td>26  </td> <td>p   </td> <td>compact</td>\n",
       "        </tr>\n",
       "        <tr>\n",
       "            <td>7         </td> <td>audi        </td> <td>a4        </td> <td>3.1  </td> <td>2008</td> <td>6   </td> <td>auto(av)  </td> <td>f   </td> <td>18  </td> <td>27  </td> <td>p   </td> <td>compact</td>\n",
       "        </tr>\n",
       "        <tr>\n",
       "            <td>8         </td> <td>audi        </td> <td>a4 quattro</td> <td>1.8  </td> <td>1999</td> <td>4   </td> <td>manual(m5)</td> <td>4   </td> <td>18  </td> <td>26  </td> <td>p   </td> <td>compact</td>\n",
       "        </tr>\n",
       "        <tr>\n",
       "            <td>9         </td> <td>audi        </td> <td>a4 quattro</td> <td>1.8  </td> <td>1999</td> <td>4   </td> <td>auto(l5)  </td> <td>4   </td> <td>16  </td> <td>25  </td> <td>p   </td> <td>compact</td>\n",
       "        </tr>\n",
       "        <tr>\n",
       "            <td>10        </td> <td>audi        </td> <td>a4 quattro</td> <td>2    </td> <td>2008</td> <td>4   </td> <td>manual(m6)</td> <td>4   </td> <td>20  </td> <td>28  </td> <td>p   </td> <td>compact</td>\n",
       "        </tr>\n",
       "    </tbody>\n",
       "</table>\n",
       "<p>... (224 rows omitted)</p>"
      ],
      "text/plain": [
       "Unnamed: 0 | manufacturer | model      | displ | year | cyl  | trans      | drv  | cty  | hwy  | fl   | class\n",
       "1          | audi         | a4         | 1.8   | 1999 | 4    | auto(l5)   | f    | 18   | 29   | p    | compact\n",
       "2          | audi         | a4         | 1.8   | 1999 | 4    | manual(m5) | f    | 21   | 29   | p    | compact\n",
       "3          | audi         | a4         | 2     | 2008 | 4    | manual(m6) | f    | 20   | 31   | p    | compact\n",
       "4          | audi         | a4         | 2     | 2008 | 4    | auto(av)   | f    | 21   | 30   | p    | compact\n",
       "5          | audi         | a4         | 2.8   | 1999 | 6    | auto(l5)   | f    | 16   | 26   | p    | compact\n",
       "6          | audi         | a4         | 2.8   | 1999 | 6    | manual(m5) | f    | 18   | 26   | p    | compact\n",
       "7          | audi         | a4         | 3.1   | 2008 | 6    | auto(av)   | f    | 18   | 27   | p    | compact\n",
       "8          | audi         | a4 quattro | 1.8   | 1999 | 4    | manual(m5) | 4    | 18   | 26   | p    | compact\n",
       "9          | audi         | a4 quattro | 1.8   | 1999 | 4    | auto(l5)   | 4    | 16   | 25   | p    | compact\n",
       "10         | audi         | a4 quattro | 2     | 2008 | 4    | manual(m6) | 4    | 20   | 28   | p    | compact\n",
       "... (224 rows omitted)"
      ]
     },
     "execution_count": 49,
     "metadata": {},
     "output_type": "execute_result"
    }
   ],
   "source": [
    "mpg = Table.read_table(\"mpg.csv\")\n",
    "mpg\n"
   ]
  },
  {
   "cell_type": "markdown",
   "metadata": {},
   "source": [
    "Let's explore the distribution of the models in our dataset."
   ]
  },
  {
   "cell_type": "markdown",
   "metadata": {},
   "source": [
    "Let's try to group by manufacturer to get a count of how many records we have for each value. To do this we will use the function `group`. "
   ]
  },
  {
   "cell_type": "code",
   "execution_count": 56,
   "metadata": {},
   "outputs": [
    {
     "data": {
      "text/html": [
       "<table border=\"1\" class=\"dataframe\">\n",
       "    <thead>\n",
       "        <tr>\n",
       "            <th>manufacturer</th> <th>count</th>\n",
       "        </tr>\n",
       "    </thead>\n",
       "    <tbody>\n",
       "        <tr>\n",
       "            <td>audi        </td> <td>18   </td>\n",
       "        </tr>\n",
       "        <tr>\n",
       "            <td>chevrolet   </td> <td>19   </td>\n",
       "        </tr>\n",
       "        <tr>\n",
       "            <td>dodge       </td> <td>37   </td>\n",
       "        </tr>\n",
       "        <tr>\n",
       "            <td>ford        </td> <td>25   </td>\n",
       "        </tr>\n",
       "        <tr>\n",
       "            <td>honda       </td> <td>9    </td>\n",
       "        </tr>\n",
       "        <tr>\n",
       "            <td>hyundai     </td> <td>14   </td>\n",
       "        </tr>\n",
       "        <tr>\n",
       "            <td>jeep        </td> <td>8    </td>\n",
       "        </tr>\n",
       "        <tr>\n",
       "            <td>land rover  </td> <td>4    </td>\n",
       "        </tr>\n",
       "        <tr>\n",
       "            <td>lincoln     </td> <td>3    </td>\n",
       "        </tr>\n",
       "        <tr>\n",
       "            <td>mercury     </td> <td>4    </td>\n",
       "        </tr>\n",
       "    </tbody>\n",
       "</table>\n",
       "<p>... (5 rows omitted)</p>"
      ],
      "text/plain": [
       "manufacturer | count\n",
       "audi         | 18\n",
       "chevrolet    | 19\n",
       "dodge        | 37\n",
       "ford         | 25\n",
       "honda        | 9\n",
       "hyundai      | 14\n",
       "jeep         | 8\n",
       "land rover   | 4\n",
       "lincoln      | 3\n",
       "mercury      | 4\n",
       "... (5 rows omitted)"
      ]
     },
     "execution_count": 56,
     "metadata": {},
     "output_type": "execute_result"
    }
   ],
   "source": [
    "by_manufacturer = mpg.group('manufacturer')\n",
    "by_manufacturer"
   ]
  },
  {
   "cell_type": "markdown",
   "metadata": {},
   "source": [
    "Notice that when using the fucntion `group` a new could appears called `counts`. (#something else about counts?)"
   ]
  },
  {
   "cell_type": "markdown",
   "metadata": {},
   "source": [
    "Now, let's explore the dristribution of the 38 popular models of cars (from 199 to 2008) by manufactuer.\n",
    "\n",
    "Begin by sorting the variables **count** from largest to samllest, anbd then create the plot by calling the function `barh` on the varaible **manufactuer**."
   ]
  },
  {
   "cell_type": "code",
   "execution_count": 58,
   "metadata": {},
   "outputs": [
    {
     "data": {
      "image/png": "[encoded data removed]",
      "text/plain": [
       "<Figure size 432x540 with 1 Axes>"
      ]
     },
     "metadata": {
      "needs_background": "light"
     },
     "output_type": "display_data"
    }
   ],
   "source": [
    "manufacturer_distribution = by_manufacturer.sort('count', descending=True).barh('manufacturer')"
   ]
  },
  {
   "cell_type": "markdown",
   "metadata": {},
   "source": [
    "<b>Question 1:</b>  Which manufacturer had the most cars? How many? Use Google (or any other source you might find relavant) to draw some insights. Think about wy \"lincoln\" was the one with the fewest car coun? Why was \"dodge\" the one producing the most? Why would the EPA (Environmental Protection Agency) want to collect this data and how might you find it useful? "
   ]
  },
  {
   "cell_type": "markdown",
   "metadata": {},
   "source": [
    "<b>Answer:</b> YOUR ANSWER HERE\n"
   ]
  },
  {
   "cell_type": "markdown",
   "metadata": {},
   "source": [
    "Now, let's do the same but for the variable **cyl**, which is the number of cylinders in the automobile. Begin by grouping by year, sorting by year, and finally plotting it. \n",
    "\n",
    "*Cylinders is the power unit of an engine. It's where gasoline is burned and trasnformed into power. Most cars have 4,6, or 8 cylinders. \n",
    "\n",
    "# Write note about cylinders and emissions (related back to EPA) "
   ]
  },
  {
   "cell_type": "code",
   "execution_count": 64,
   "metadata": {},
   "outputs": [
    {
     "data": {
      "text/html": [
       "<table border=\"1\" class=\"dataframe\">\n",
       "    <thead>\n",
       "        <tr>\n",
       "            <th>cyl</th> <th>count</th>\n",
       "        </tr>\n",
       "    </thead>\n",
       "    <tbody>\n",
       "        <tr>\n",
       "            <td>4   </td> <td>81   </td>\n",
       "        </tr>\n",
       "        <tr>\n",
       "            <td>5   </td> <td>4    </td>\n",
       "        </tr>\n",
       "        <tr>\n",
       "            <td>6   </td> <td>79   </td>\n",
       "        </tr>\n",
       "        <tr>\n",
       "            <td>8   </td> <td>70   </td>\n",
       "        </tr>\n",
       "    </tbody>\n",
       "</table>"
      ],
      "text/plain": [
       "cyl  | count\n",
       "4    | 81\n",
       "5    | 4\n",
       "6    | 79\n",
       "8    | 70"
      ]
     },
     "execution_count": 64,
     "metadata": {},
     "output_type": "execute_result"
    }
   ],
   "source": [
    "by_cylinder = mpg.group('cyl')\n",
    "by_cylinder"
   ]
  },
  {
   "cell_type": "markdown",
   "metadata": {},
   "source": [
    "<b>Question 2:</b> Now create a plot. \n",
    "    \n"
   ]
  },
  {
   "cell_type": "code",
   "execution_count": 72,
   "metadata": {},
   "outputs": [
    {
     "ename": "TypeError",
     "evalue": "object of type 'ellipsis' has no len()",
     "output_type": "error",
     "traceback": [
      "\u001b[0;31m---------------------------------------------------------------------------\u001b[0m",
      "\u001b[0;31mTypeError\u001b[0m                                 Traceback (most recent call last)",
      "\u001b[0;32m<ipython-input-72-4e3f84311903>\u001b[0m in \u001b[0;36m<module>\u001b[0;34m\u001b[0m\n\u001b[0;32m----> 1\u001b[0;31m \u001b[0mby_cylinder\u001b[0m\u001b[0;34m.\u001b[0m\u001b[0msort\u001b[0m\u001b[0;34m(\u001b[0m\u001b[0;34m...\u001b[0m\u001b[0;34m,\u001b[0m \u001b[0mdescending\u001b[0m\u001b[0;34m=\u001b[0m\u001b[0;32mTrue\u001b[0m\u001b[0;34m)\u001b[0m\u001b[0;34m.\u001b[0m\u001b[0mbarh\u001b[0m\u001b[0;34m(\u001b[0m\u001b[0;34m'...'\u001b[0m\u001b[0;34m)\u001b[0m\u001b[0;34m\u001b[0m\u001b[0m\n\u001b[0m",
      "\u001b[0;32m~/anaconda3/lib/python3.6/site-packages/datascience/tables.py\u001b[0m in \u001b[0;36msort\u001b[0;34m(self, column_or_label, descending, distinct)\u001b[0m\n\u001b[1;32m    856\u001b[0m         \u001b[0mBlue\u001b[0m  \u001b[0;34m|\u001b[0m \u001b[0mRectangular\u001b[0m \u001b[0;34m|\u001b[0m \u001b[0;36m12\u001b[0m     \u001b[0;34m|\u001b[0m \u001b[0;36m2\u001b[0m\u001b[0;34m\u001b[0m\u001b[0m\n\u001b[1;32m    857\u001b[0m         \"\"\"\n\u001b[0;32m--> 858\u001b[0;31m         \u001b[0mcolumn\u001b[0m \u001b[0;34m=\u001b[0m \u001b[0mself\u001b[0m\u001b[0;34m.\u001b[0m\u001b[0m_get_column\u001b[0m\u001b[0;34m(\u001b[0m\u001b[0mcolumn_or_label\u001b[0m\u001b[0;34m)\u001b[0m\u001b[0;34m\u001b[0m\u001b[0m\n\u001b[0m\u001b[1;32m    859\u001b[0m         \u001b[0;32mif\u001b[0m \u001b[0mdistinct\u001b[0m\u001b[0;34m:\u001b[0m\u001b[0;34m\u001b[0m\u001b[0m\n\u001b[1;32m    860\u001b[0m             \u001b[0m_\u001b[0m\u001b[0;34m,\u001b[0m \u001b[0mrow_numbers\u001b[0m \u001b[0;34m=\u001b[0m \u001b[0mnp\u001b[0m\u001b[0;34m.\u001b[0m\u001b[0munique\u001b[0m\u001b[0;34m(\u001b[0m\u001b[0mcolumn\u001b[0m\u001b[0;34m,\u001b[0m \u001b[0mreturn_index\u001b[0m\u001b[0;34m=\u001b[0m\u001b[0;32mTrue\u001b[0m\u001b[0;34m)\u001b[0m\u001b[0;34m\u001b[0m\u001b[0m\n",
      "\u001b[0;32m~/anaconda3/lib/python3.6/site-packages/datascience/tables.py\u001b[0m in \u001b[0;36m_get_column\u001b[0;34m(self, column_or_label)\u001b[0m\n\u001b[1;32m   1324\u001b[0m             \u001b[0;32mraise\u001b[0m \u001b[0mValueError\u001b[0m\u001b[0;34m(\u001b[0m\u001b[0;34m'label \"{}\" not in labels {}'\u001b[0m\u001b[0;34m.\u001b[0m\u001b[0mformat\u001b[0m\u001b[0;34m(\u001b[0m\u001b[0mc\u001b[0m\u001b[0;34m,\u001b[0m \u001b[0mself\u001b[0m\u001b[0;34m.\u001b[0m\u001b[0mlabels\u001b[0m\u001b[0;34m)\u001b[0m\u001b[0;34m)\u001b[0m\u001b[0;34m\u001b[0m\u001b[0m\n\u001b[1;32m   1325\u001b[0m         \u001b[0;32melse\u001b[0m\u001b[0;34m:\u001b[0m\u001b[0;34m\u001b[0m\u001b[0m\n\u001b[0;32m-> 1326\u001b[0;31m             \u001b[0;32massert\u001b[0m \u001b[0mlen\u001b[0m\u001b[0;34m(\u001b[0m\u001b[0mc\u001b[0m\u001b[0;34m)\u001b[0m \u001b[0;34m==\u001b[0m \u001b[0mself\u001b[0m\u001b[0;34m.\u001b[0m\u001b[0mnum_rows\u001b[0m\u001b[0;34m,\u001b[0m \u001b[0;34m'column length mismatch'\u001b[0m\u001b[0;34m\u001b[0m\u001b[0m\n\u001b[0m\u001b[1;32m   1327\u001b[0m             \u001b[0;32mreturn\u001b[0m \u001b[0mc\u001b[0m\u001b[0;34m\u001b[0m\u001b[0m\n\u001b[1;32m   1328\u001b[0m \u001b[0;34m\u001b[0m\u001b[0m\n",
      "\u001b[0;31mTypeError\u001b[0m: object of type 'ellipsis' has no len()"
     ]
    }
   ],
   "source": [
    "by_cylinder.sort(..., descending=True).barh('...')"
   ]
  },
  {
   "cell_type": "code",
   "execution_count": 65,
   "metadata": {},
   "outputs": [
    {
     "data": {
      "image/png": "[encoded data removed]",
      "text/plain": [
       "<Figure size 432x288 with 1 Axes>"
      ]
     },
     "metadata": {
      "needs_background": "light"
     },
     "output_type": "display_data"
    }
   ],
   "source": [
    "# Answer\n",
    "by_cylinder.sort('count', descending=True).barh('cyl')"
   ]
  },
  {
   "cell_type": "markdown",
   "metadata": {},
   "source": [
    "<b>Question 2: </b> It seems that there is not much difference in the distribution between cars with 4,6, and 8 cylinders. What can you tell about the ones with 5 cylinders? Use google to see if you can find any relavent information. \n",
    "\n",
    "# bring it back to the environment "
   ]
  },
  {
   "cell_type": "markdown",
   "metadata": {},
   "source": [
    "<b>Answer:</b> YOUR ANSWER HERE"
   ]
  },
  {
   "cell_type": "markdown",
   "metadata": {},
   "source": [
    "---"
   ]
  },
  {
   "cell_type": "markdown",
   "metadata": {},
   "source": [
    "--- \n",
    "\n",
    "### Check your understanding \n",
    "\n",
    "Now, let's check your understanding of these different visualization tools. "
   ]
  },
  {
   "cell_type": "markdown",
   "metadata": {},
   "source": [
    "<b>Question 1:</b> Explain when you would want to use a bar chart?"
   ]
  },
  {
   "cell_type": "markdown",
   "metadata": {},
   "source": [
    "<b>Answer :</b> "
   ]
  },
  {
   "cell_type": "markdown",
   "metadata": {},
   "source": [
    "<b>Question 2:</b> When would you want to use a scatter plot over a line plot?"
   ]
  },
  {
   "cell_type": "markdown",
   "metadata": {},
   "source": [
    "<b>Answer:</b> "
   ]
  },
  {
   "cell_type": "markdown",
   "metadata": {},
   "source": [
    "---\n",
    "\n",
    "## Bibliography"
   ]
  },
  {
   "cell_type": "markdown",
   "metadata": {},
   "source": [
    "`Author` - Analyzing with charts (scatter, line, and bar). https://docs.google.com/presentation/d/1_Jcpv47nNHgKXImOaWi81nXq5qgAElKtMGQNJrEJqUE/edit#slide=id.g6e961c4cb5_0_19\n",
    "\n",
    "`Author` - Analyzing with histograms. https://docs.google.com/presentation/d/1QsyYMGUEOBVRaFyLAQbY2-aJVvh1Ibd5bC4U7TbhjX4/edit#slide=id.g6e961c4cd3_0_16\n",
    "\n",
    "**Link the place to read more about the datasets**\n"
   ]
  },
  {
   "cell_type": "markdown",
   "metadata": {},
   "source": [
    "---\n",
    "Notebook developed by: Ashley Quiterio, Alleanna Clark and Karla Palos\n",
    "\n",
    "Data Science Modules: http://data.berkeley.edu/education/modules\n"
   ]
  }
 ],
 "metadata": {
  "anaconda-cloud": {},
  "kernelspec": {
   "display_name": "Python 3",
   "language": "python",
   "name": "python3"
  },
  "language_info": {
   "codemirror_mode": {
    "name": "ipython",
    "version": 3
   },
   "file_extension": ".py",
   "mimetype": "text/x-python",
   "name": "python",
   "nbconvert_exporter": "python",
   "pygments_lexer": "ipython3",
   "version": "3.6.6"
  }
 },
 "nbformat": 4,
 "nbformat_minor": 1
}
